{
 "cells": [
  {
   "cell_type": "code",
   "execution_count": 12,
   "id": "fe5dc203-4519-412b-a3ac-f06dcded0ae6",
   "metadata": {},
   "outputs": [
    {
     "data": {
      "application/vnd.jupyter.widget-view+json": {
       "model_id": "1400386e0d124cb6b54bad3cd00e5aad",
       "version_major": 2,
       "version_minor": 0
      },
      "text/plain": [
       "VBox(children=(FloatSlider(value=465000.0, description='Fixed Costs (₹):', max=1000000.0, min=100000.0, step=5…"
      ]
     },
     "metadata": {},
     "output_type": "display_data"
    },
    {
     "data": {
      "application/vnd.jupyter.widget-view+json": {
       "model_id": "c5c64a0a7c4741c188b620bbb29e7f13",
       "version_major": 2,
       "version_minor": 0
      },
      "text/plain": [
       "Output()"
      ]
     },
     "metadata": {},
     "output_type": "display_data"
    }
   ],
   "source": [
    "import pandas as pd\n",
    "import ipywidgets as widgets\n",
    "from IPython.display import display\n",
    "\n",
    "# Function to calculate P&L details\n",
    "def calculate_pnl(fixed_costs, storage_revenue, order_revenue, variable_costs):\n",
    "    total_revenue = storage_revenue + order_revenue\n",
    "    total_costs = fixed_costs + variable_costs\n",
    "    profit = total_revenue - total_costs\n",
    "\n",
    "    pnl_data = {\n",
    "        \"Category\": [\"Storage Revenue\", \"Order Revenue\", \"Total Revenue\", \"Fixed Costs\", \"Variable Costs\", \"Total Costs\", \"Profit\"],\n",
    "        \"Amount (₹)\": [\n",
    "            storage_revenue, \n",
    "            order_revenue, \n",
    "            total_revenue, \n",
    "            fixed_costs, \n",
    "            variable_costs, \n",
    "            total_costs, \n",
    "            profit\n",
    "        ]\n",
    "    }\n",
    "\n",
    "    return pd.DataFrame(pnl_data)\n",
    "\n",
    "# Interactive display function\n",
    "def interactive_pnl_model(fixed_costs, storage_rate, storage_capacity, \n",
    "                          fill_rate, order_revenue_per_order, throughput, variable_cost_per_order):\n",
    "    # Calculate revenues and costs\n",
    "    storage_revenue = fill_rate * storage_capacity * storage_rate\n",
    "    order_revenue = throughput * order_revenue_per_order\n",
    "    variable_costs = throughput * variable_cost_per_order\n",
    "\n",
    "    # Generate P&L\n",
    "    pnl_df = calculate_pnl(fixed_costs, storage_revenue, order_revenue, variable_costs)\n",
    "    display(pnl_df)\n",
    "\n",
    "# Create sliders\n",
    "fixed_costs_slider = widgets.FloatSlider(value=465000, min=100000, max=1000000, step=5000, description=\"Fixed Costs (₹):\")\n",
    "storage_rate_slider = widgets.FloatSlider(value=25, min=10, max=50, step=1, description=\"Storage Rate (₹/cubic ft):\")\n",
    "storage_capacity_slider = widgets.FloatSlider(value=15000, min=5000, max=30000, step=500, description=\"Storage Capacity (cubic ft):\")\n",
    "fill_rate_slider = widgets.FloatSlider(value=0.7, min=0.1, max=1.0, step=0.05, description=\"Fill Rate:\")\n",
    "order_revenue_slider = widgets.FloatSlider(value=25, min=10, max=50, step=1, description=\"Order Revenue (₹):\")\n",
    "throughput_slider = widgets.IntSlider(value=12000, min=1000, max=50000, step=1000, description=\"Throughput (orders):\")\n",
    "variable_cost_per_order_slider = widgets.FloatSlider(value=8, min=2, max=20, step=0.5, description=\"Variable Cost (₹/order):\")\n",
    "\n",
    "# Use `interactive_output` for dynamic updates\n",
    "ui = widgets.VBox([\n",
    "    fixed_costs_slider, storage_rate_slider, storage_capacity_slider, \n",
    "    fill_rate_slider, order_revenue_slider, throughput_slider, variable_cost_per_order_slider\n",
    "])\n",
    "\n",
    "output = widgets.interactive_output(\n",
    "    interactive_pnl_model,\n",
    "    {\n",
    "        'fixed_costs': fixed_costs_slider,\n",
    "        'storage_rate': storage_rate_slider,\n",
    "        'storage_capacity': storage_capacity_slider,\n",
    "        'fill_rate': fill_rate_slider,\n",
    "        'order_revenue_per_order': order_revenue_slider,\n",
    "        'throughput': throughput_slider,\n",
    "        'variable_cost_per_order': variable_cost_per_order_slider\n",
    "    }\n",
    ")\n",
    "\n",
    "# Display the widgets and the output\n",
    "display(ui, output)\n"
   ]
  }
 ],
 "metadata": {
  "kernelspec": {
   "display_name": "Python 3.11",
   "language": "python",
   "name": "python311"
  },
  "language_info": {
   "codemirror_mode": {
    "name": "ipython",
    "version": 3
   },
   "file_extension": ".py",
   "mimetype": "text/x-python",
   "name": "python",
   "nbconvert_exporter": "python",
   "pygments_lexer": "ipython3",
   "version": "3.11.9"
  }
 },
 "nbformat": 4,
 "nbformat_minor": 5
}
